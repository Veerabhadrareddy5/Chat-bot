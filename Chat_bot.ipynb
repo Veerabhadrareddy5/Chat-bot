{
 "cells": [
  {
   "cell_type": "code",
   "execution_count": 1,
   "metadata": {
    "colab": {
     "base_uri": "https://localhost:8080/"
    },
    "id": "YpUr8dJRJOR8",
    "outputId": "1724db6a-3d4d-4771-e307-bec250f33b06",
    "scrolled": true
   },
   "outputs": [
    {
     "name": "stdout",
     "output_type": "stream",
     "text": [
      "Requirement already satisfied: nltk in c:\\users\\veera\\anaconda31\\lib\\site-packages (3.5)\n",
      "Requirement already satisfied: joblib in c:\\users\\veera\\anaconda31\\lib\\site-packages (from nltk) (0.17.0)\n",
      "Requirement already satisfied: regex in c:\\users\\veera\\anaconda31\\lib\\site-packages (from nltk) (2020.10.15)\n",
      "Requirement already satisfied: tqdm in c:\\users\\veera\\anaconda31\\lib\\site-packages (from nltk) (4.50.2)\n",
      "Requirement already satisfied: click in c:\\users\\veera\\anaconda31\\lib\\site-packages (from nltk) (7.1.2)\n",
      "Note: you may need to restart the kernel to use updated packages.\n"
     ]
    }
   ],
   "source": [
    "pip install nltk"
   ]
  },
  {
   "cell_type": "markdown",
   "metadata": {
    "id": "JacnCxOcQDJU"
   },
   "source": []
  },
  {
   "cell_type": "code",
   "execution_count": 1,
   "metadata": {
    "colab": {
     "base_uri": "https://localhost:8080/"
    },
    "id": "VHt2bjImJzKV",
    "outputId": "8f88f182-07b3-4b16-e51c-6c707a9b8e85"
   },
   "outputs": [
    {
     "name": "stdout",
     "output_type": "stream",
     "text": [
      "Collecting newspaper3k\n",
      "  Using cached newspaper3k-0.2.8-py3-none-any.whl (211 kB)\n",
      "Requirement already satisfied: lxml>=3.6.0 in c:\\users\\veera\\anaconda31\\lib\\site-packages (from newspaper3k) (4.6.1)\n",
      "Requirement already satisfied: nltk>=3.2.1 in c:\\users\\veera\\anaconda31\\lib\\site-packages (from newspaper3k) (3.5)\n",
      "Requirement already satisfied: python-dateutil>=2.5.3 in c:\\users\\veera\\anaconda31\\lib\\site-packages (from newspaper3k) (2.8.1)\n",
      "Processing c:\\users\\veera\\appdata\\local\\pip\\cache\\wheels\\1f\\7e\\0c\\54f3b0f5164278677899f2db08f2b07943ce2d024a3c862afb\\jieba3k-0.35.1-py3-none-any.whl\n",
      "Collecting feedparser>=5.2.1\n",
      "  Using cached feedparser-6.0.2-py3-none-any.whl (80 kB)\n",
      "Requirement already satisfied: PyYAML>=3.11 in c:\\users\\veera\\anaconda31\\lib\\site-packages (from newspaper3k) (5.3.1)\n",
      "Requirement already satisfied: beautifulsoup4>=4.4.1 in c:\\users\\veera\\anaconda31\\lib\\site-packages (from newspaper3k) (4.9.3)\n",
      "Collecting cssselect>=0.9.2\n",
      "  Using cached cssselect-1.1.0-py2.py3-none-any.whl (16 kB)\n",
      "Processing c:\\users\\veera\\appdata\\local\\pip\\cache\\wheels\\99\\74\\83\\8fac1c8d9c648cfabebbbffe97a889f6624817f3aa0bbe6c09\\tinysegmenter-0.3-py3-none-any.whl\n",
      "Collecting feedfinder2>=0.0.4\n",
      "  Using cached feedfinder2-0.0.4.tar.gz (3.3 kB)\n",
      "Requirement already satisfied: Pillow>=3.3.0 in c:\\users\\veera\\anaconda31\\lib\\site-packages (from newspaper3k) (8.0.1)\n",
      "Collecting tldextract>=2.0.1\n",
      "  Using cached tldextract-3.1.0-py2.py3-none-any.whl (87 kB)\n",
      "Requirement already satisfied: requests>=2.10.0 in c:\\users\\veera\\anaconda31\\lib\\site-packages (from newspaper3k) (2.24.0)\n",
      "Requirement already satisfied: tqdm in c:\\users\\veera\\anaconda31\\lib\\site-packages (from nltk>=3.2.1->newspaper3k) (4.50.2)\n",
      "Requirement already satisfied: regex in c:\\users\\veera\\anaconda31\\lib\\site-packages (from nltk>=3.2.1->newspaper3k) (2020.10.15)\n",
      "Requirement already satisfied: joblib in c:\\users\\veera\\anaconda31\\lib\\site-packages (from nltk>=3.2.1->newspaper3k) (0.17.0)\n",
      "Requirement already satisfied: click in c:\\users\\veera\\anaconda31\\lib\\site-packages (from nltk>=3.2.1->newspaper3k) (7.1.2)\n",
      "Requirement already satisfied: six>=1.5 in c:\\users\\veera\\anaconda31\\lib\\site-packages (from python-dateutil>=2.5.3->newspaper3k) (1.15.0)\n",
      "Collecting sgmllib3k\n",
      "  Using cached sgmllib3k-1.0.0.tar.gz (5.8 kB)\n",
      "Requirement already satisfied: soupsieve>1.2; python_version >= \"3.0\" in c:\\users\\veera\\anaconda31\\lib\\site-packages (from beautifulsoup4>=4.4.1->newspaper3k) (2.0.1)\n",
      "Collecting requests-file>=1.4\n",
      "  Using cached requests_file-1.5.1-py2.py3-none-any.whl (3.7 kB)\n",
      "Requirement already satisfied: filelock>=3.0.8 in c:\\users\\veera\\anaconda31\\lib\\site-packages (from tldextract>=2.0.1->newspaper3k) (3.0.12)\n",
      "Requirement already satisfied: idna in c:\\users\\veera\\anaconda31\\lib\\site-packages (from tldextract>=2.0.1->newspaper3k) (2.10)\n",
      "Requirement already satisfied: urllib3!=1.25.0,!=1.25.1,<1.26,>=1.21.1 in c:\\users\\veera\\anaconda31\\lib\\site-packages (from requests>=2.10.0->newspaper3k) (1.25.11)\n",
      "Requirement already satisfied: chardet<4,>=3.0.2 in c:\\users\\veera\\anaconda31\\lib\\site-packages (from requests>=2.10.0->newspaper3k) (3.0.4)\n",
      "Requirement already satisfied: certifi>=2017.4.17 in c:\\users\\veera\\anaconda31\\lib\\site-packages (from requests>=2.10.0->newspaper3k) (2020.6.20)\n",
      "Building wheels for collected packages: feedfinder2, sgmllib3k\n",
      "  Building wheel for feedfinder2 (setup.py): started\n",
      "  Building wheel for feedfinder2 (setup.py): finished with status 'done'\n",
      "  Created wheel for feedfinder2: filename=feedfinder2-0.0.4-py3-none-any.whl size=3362 sha256=a1dee57f92f60e4c04ea831da9cc6877eae5483ee2a5ec4a0d40c667674d30f0\n",
      "  Stored in directory: c:\\users\\veera\\appdata\\local\\pip\\cache\\wheels\\b6\\09\\68\\a9f15498ac02c23dde29f18745bc6a6f574ba4ab41861a3575\n",
      "  Building wheel for sgmllib3k (setup.py): started\n",
      "  Building wheel for sgmllib3k (setup.py): finished with status 'done'\n",
      "  Created wheel for sgmllib3k: filename=sgmllib3k-1.0.0-py3-none-any.whl size=6070 sha256=759cae3d2d5a067d62b5ec6ee8bed17b4553dfde354ba535ba853650b5896ffb\n",
      "  Stored in directory: c:\\users\\veera\\appdata\\local\\pip\\cache\\wheels\\83\\63\\2f\\117884c3b19d46b64d3d61690333aa80c88dc14050e269c546\n",
      "Successfully built feedfinder2 sgmllib3k\n",
      "Installing collected packages: jieba3k, sgmllib3k, feedparser, cssselect, tinysegmenter, feedfinder2, requests-file, tldextract, newspaper3k\n",
      "Successfully installed cssselect-1.1.0 feedfinder2-0.0.4 feedparser-6.0.2 jieba3k-0.35.1 newspaper3k-0.2.8 requests-file-1.5.1 sgmllib3k-1.0.0 tinysegmenter-0.3 tldextract-3.1.0\n",
      "Note: you may need to restart the kernel to use updated packages.\n"
     ]
    }
   ],
   "source": [
    "pip install newspaper3k"
   ]
  },
  {
   "cell_type": "code",
   "execution_count": 2,
   "metadata": {
    "id": "yVWE9KKtJ7-f"
   },
   "outputs": [],
   "source": [
    "#import libraries\n",
    "from newspaper import Article\n",
    "import random\n",
    "import string \n",
    "from sklearn.feature_extraction.text import CountVectorizer\n",
    "from sklearn.metrics.pairwise import cosine_similarity\n",
    "import nltk\n",
    "import numpy as np\n",
    "import warnings\n",
    "warnings.filterwarnings('ignore')"
   ]
  },
  {
   "cell_type": "code",
   "execution_count": 3,
   "metadata": {
    "colab": {
     "base_uri": "https://localhost:8080/"
    },
    "id": "yL87nOB6d24F",
    "outputId": "90f45006-71b6-446a-9e1e-c011419ae61c"
   },
   "outputs": [
    {
     "data": {
      "text/plain": [
       "True"
      ]
     },
     "execution_count": 3,
     "metadata": {},
     "output_type": "execute_result"
    }
   ],
   "source": [
    "nltk.download('punkt', quiet=True) # Download the punkt package"
   ]
  },
  {
   "cell_type": "code",
   "execution_count": 4,
   "metadata": {
    "id": "Dt4b2aKyd3AV"
   },
   "outputs": [],
   "source": [
    "#Get the article URL\n",
    "article = Article('https://www.mayoclinic.org/diseases-conditions/chronic-kidney-disease/symptoms-causes/syc-20354521')\n",
    "article.download() #Download the article\n",
    "article.parse() #Parse the article\n",
    "article.nlp() #Apply Natural Language Processing (NLP)\n",
    "corpus = article.text #Store the article text into corpus\n"
   ]
  },
  {
   "cell_type": "code",
   "execution_count": 5,
   "metadata": {
    "colab": {
     "base_uri": "https://localhost:8080/"
    },
    "id": "dXUt3wXSd3Mq",
    "outputId": "ee858ae0-ecbe-4237-c64a-4d27c4de93d8"
   },
   "outputs": [
    {
     "name": "stdout",
     "output_type": "stream",
     "text": [
      "Overview\n",
      "\n",
      "Chronic kidney disease, also called chronic kidney failure, describes the gradual loss of kidney function. Your kidneys filter wastes and excess fluids from your blood, which are then excreted in your urine. When chronic kidney disease reaches an advanced stage, dangerous levels of fluid, electrolytes and wastes can build up in your body.\n",
      "\n",
      "In the early stages of chronic kidney disease, you may have few signs or symptoms. Chronic kidney disease may not become apparent until your kidney function is significantly impaired.\n",
      "\n",
      "Treatment for chronic kidney disease focuses on slowing the progression of the kidney damage, usually by controlling the underlying cause. Chronic kidney disease can progress to end-stage kidney failure, which is fatal without artificial filtering (dialysis) or a kidney transplant.\n",
      "\n",
      "Chronic kidney disease care at Mayo Clinic\n",
      "\n",
      "How kidneys work\n",
      "\n",
      "Symptoms\n",
      "\n",
      "Signs and symptoms of chronic kidney disease develop over time if kidney damage progresses slowly. Signs and symptoms of kidney disease may include:\n",
      "\n",
      "Nausea\n",
      "\n",
      "Vomiting\n",
      "\n",
      "Loss of appetite\n",
      "\n",
      "Fatigue and weakness\n",
      "\n",
      "Sleep problems\n",
      "\n",
      "Changes in how much you urinate\n",
      "\n",
      "Decreased mental sharpness\n",
      "\n",
      "Muscle twitches and cramps\n",
      "\n",
      "Swelling of feet and ankles\n",
      "\n",
      "Persistent itching\n",
      "\n",
      "Chest pain, if fluid builds up around the lining of the heart\n",
      "\n",
      "Shortness of breath, if fluid builds up in the lungs\n",
      "\n",
      "High blood pressure (hypertension) that's difficult to control\n",
      "\n",
      "Signs and symptoms of kidney disease are often nonspecific, meaning they can also be caused by other illnesses. Because your kidneys are highly adaptable and able to compensate for lost function, signs and symptoms may not appear until irreversible damage has occurred.\n",
      "\n",
      "When to see a doctor\n",
      "\n",
      "Make an appointment with your doctor if you have any signs or symptoms of kidney disease.\n",
      "\n",
      "If you have a medical condition that increases your risk of kidney disease, your doctor is likely to monitor your blood pressure and kidney function with urine and blood tests during regular office visits. Ask your doctor whether these tests are necessary for you.\n",
      "\n",
      "Causes\n",
      "\n",
      "Normal kidney vs. diseased kidney Open pop-up dialog box Close Normal kidney vs. diseased kidney Normal kidney vs. diseased kidney A normal kidney has about 1 million filtering units. Each unit, called a glomerulus, connects to a tubule, which collects urine. Conditions such as high blood pressure and diabetes take a toll on kidney function by damaging these filtering units and collecting tubules and causing scarring.\n",
      "\n",
      "Polycystic kidney Open pop-up dialog box Close Polycystic kidney Polycystic kidney A healthy kidney (left) eliminates waste from the blood and maintains the body's normal chemical balance. With polycystic kidney disease (right), fluid-filled sacs called cysts develop in the kidneys, causing them to grow larger and gradually lose their ability to function normally.\n",
      "\n",
      "Chronic kidney disease occurs when a disease or condition impairs kidney function, causing kidney damage to worsen over several months or years.\n",
      "\n",
      "Diseases and conditions that cause chronic kidney disease include:\n",
      "\n",
      "Type 1 or type 2 diabetes\n",
      "\n",
      "High blood pressure\n",
      "\n",
      "Glomerulonephritis (gloe-mer-u-low-nuh-FRY-tis), an inflammation of the kidney's filtering units (glomeruli)\n",
      "\n",
      "Interstitial nephritis (in-tur-STISH-ul nuh-FRY-tis), an inflammation of the kidney's tubules and surrounding structures\n",
      "\n",
      "Polycystic kidney disease\n",
      "\n",
      "Prolonged obstruction of the urinary tract, from conditions such as enlarged prostate, kidney stones and some cancers\n",
      "\n",
      "Vesicoureteral (ves-ih-koe-yoo-REE-tur-ul) reflux, a condition that causes urine to back up into your kidneys\n",
      "\n",
      "Recurrent kidney infection, also called pyelonephritis (pie-uh-low-nuh-FRY-tis)\n",
      "\n",
      "Risk factors\n",
      "\n",
      "Factors that may increase your risk of chronic kidney disease include:\n",
      "\n",
      "Diabetes\n",
      "\n",
      "High blood pressure\n",
      "\n",
      "Heart and blood vessel (cardiovascular) disease\n",
      "\n",
      "Smoking\n",
      "\n",
      "Obesity\n",
      "\n",
      "Being African-American, Native American or Asian-American\n",
      "\n",
      "Family history of kidney disease\n",
      "\n",
      "Abnormal kidney structure\n",
      "\n",
      "Older age\n",
      "\n",
      "Complications\n",
      "\n",
      "Chronic kidney disease can affect almost every part of your body. Potential complications may include:\n",
      "\n",
      "Fluid retention, which could lead to swelling in your arms and legs, high blood pressure, or fluid in your lungs (pulmonary edema)\n",
      "\n",
      "A sudden rise in potassium levels in your blood (hyperkalemia), which could impair your heart's ability to function and may be life-threatening\n",
      "\n",
      "Heart and blood vessel (cardiovascular) disease\n",
      "\n",
      "Weak bones and an increased risk of bone fractures\n",
      "\n",
      "Anemia\n",
      "\n",
      "Decreased sex drive, erectile dysfunction or reduced fertility\n",
      "\n",
      "Damage to your central nervous system, which can cause difficulty concentrating, personality changes or seizures\n",
      "\n",
      "Decreased immune response, which makes you more vulnerable to infection\n",
      "\n",
      "Pericarditis, an inflammation of the saclike membrane that envelops your heart (pericardium)\n",
      "\n",
      "Pregnancy complications that carry risks for the mother and the developing fetus\n",
      "\n",
      "Irreversible damage to your kidneys (end-stage kidney disease), eventually requiring either dialysis or a kidney transplant for survival\n",
      "\n",
      "Prevention\n",
      "\n",
      "To reduce your risk of developing kidney disease:\n"
     ]
    }
   ],
   "source": [
    "print(corpus)"
   ]
  },
  {
   "cell_type": "code",
   "execution_count": 6,
   "metadata": {
    "id": "lWuos6uegXr8"
   },
   "outputs": [],
   "source": [
    "#Tokenization\n",
    "text = corpus\n",
    "sent_tokens = nltk.sent_tokenize(text)# txt to a list of sentences \n"
   ]
  },
  {
   "cell_type": "code",
   "execution_count": 7,
   "metadata": {
    "id": "cijwYem8gXu0"
   },
   "outputs": [],
   "source": [
    "#Function to return a random greeting response to a users greeting\n",
    "def greeting_response(text):\n",
    "  #Convert the text to be all lowercase\n",
    "  text = text.lower()\n",
    "  # Keyword Matching\n",
    "  #Greeting responses back to the user from the bot\n",
    "  bot_greetings = [\"howdy\",\"hi\", \"hey\", \"what's good\",  \"hello\",\"hey there\"]\n",
    "  #Greeting input from the user\n",
    "  user_greetings = [\"hi\", \"hello\",  \"hola\", \"greetings\",  \"wassup\",\"hey\"] \n",
    "  \n",
    "  #If user's input is a greeting, return a randomly chosen greeting response\n",
    "  for word in text.split():\n",
    "    if word in user_greetings:\n",
    "      return random.choice(bot_greetings)"
   ]
  },
  {
   "cell_type": "code",
   "execution_count": 8,
   "metadata": {
    "id": "Db4Bvbkpu6ko"
   },
   "outputs": [],
   "source": [
    "#Return the indices of the values from an array in sorted order by the values\n",
    "def index_sort(list_var):\n",
    "  length = len(list_var)\n",
    "  list_index = list(range(0, length))\n",
    "  x  = list_var\n",
    "  for i in range(length):\n",
    "    for j in range(length):\n",
    "      if x[list_index[i]] > x[list_index[j]]:\n",
    "        temp = list_index[i]\n",
    "        list_index[i] = list_index[j]\n",
    "        list_index[j] = temp\n",
    "  return list_index\n"
   ]
  },
  {
   "cell_type": "code",
   "execution_count": 9,
   "metadata": {
    "id": "d4xLWOuZr-7z"
   },
   "outputs": [],
   "source": [
    "# Generate the response\n",
    "def bot_response(user_input):\n",
    "    user_input = user_input.lower() #Convert the users input to all lowercase letters\n",
    "    sentence_list.append(user_input) #Append the users response to the list of sentence tokens\n",
    "    bot_response='' #Create an empty response for the bot\n",
    "    cm = CountVectorizer().fit_transform(sentence_list) #Create the count matrix\n",
    "    similarity_scores = cosine_similarity(cm[-1], cm) #Get the similarity scores to the users input\n",
    "    flatten = similarity_scores.flatten() #Reduce the dimensionality of the similarity scores\n",
    "    index = index_sort(flatten) #Sort the index from \n",
    "    index = index[1:] #Get all of the similarity scores except the first (the query itself)\n",
    "    response_flag=0 #Set a flag letting us know if the text contains a similarity score greater than 0.0\n",
    "    #Loop the through the index list and get the 'n' number of sentences as the response\n",
    "    j = 0\n",
    "    for i in range(0, len(index)):\n",
    "      if flatten[index[i]] > 0.0:\n",
    "        bot_response = bot_response+' '+sentence_list[index[i]]\n",
    "        response_flag = 1\n",
    "        j = j+1\n",
    "      if j > 2:\n",
    "        break  \n",
    "    #if no sentence contains a similarity score greater than 0.0 then print 'I apologize, I don't understand'\n",
    "    if(response_flag==0):\n",
    "        bot_response = bot_response+' '+\"I apologize, I don't understand.\"\n",
    "    Sentence_list.remove(user_input) #Remove the users response from the sentence tokens\n",
    "       \n",
    "    return bot_response\n",
    "  "
   ]
  },
  {
   "cell_type": "code",
   "execution_count": 11,
   "metadata": {
    "colab": {
     "base_uri": "https://localhost:8080/"
    },
    "id": "dNcRDJajr_Hs",
    "outputId": "9cbd5b55-e6c8-485d-9910-067528196302"
   },
   "outputs": [
    {
     "name": "stdout",
     "output_type": "stream",
     "text": [
      "Doc Bot: I am DOCTOR BOT or Doc Bot for short. I will answer your queries about Chronic Kidney Disease. If you want to exit, type Bye!\n",
      "hi\n",
      "Doc Bot: hi\n",
      "hello\n",
      "Doc Bot: hey there\n",
      "exit\n",
      "Doc Bot: Chat with you later !\n"
     ]
    }
   ],
   "source": [
    "#Start the chat\n",
    "print(\"Doc Bot: I am DOCTOR BOT or Doc Bot for short. I will answer your queries about Chronic Kidney Disease. If you want to exit, type Bye!\")\n",
    "exit_list = ['exit', 'see you later','bye', 'quit', 'break']\n",
    "while(True):\n",
    "    user_input = input()\n",
    "    if(user_input.lower() in exit_list):\n",
    "      print(\"Doc Bot: Chat with you later !\")\n",
    "      break\n",
    "    else:\n",
    "      if(greeting_response(user_input)!= None):\n",
    "        print(\"Doc Bot: \"+greeting_response(user_input))\n",
    "      else:\n",
    "        print(\"Doc Bot: \"+bot_response(user_input))"
   ]
  },
  {
   "cell_type": "code",
   "execution_count": null,
   "metadata": {
    "colab": {
     "base_uri": "https://localhost:8080/"
    },
    "id": "mzu9dwtCr_JU",
    "outputId": "463fd3de-e107-4328-f1dc-74ac58b4a4ed"
   },
   "outputs": [],
   "source": []
  },
  {
   "cell_type": "code",
   "execution_count": null,
   "metadata": {
    "id": "9_Qwajr2r_NF"
   },
   "outputs": [],
   "source": []
  },
  {
   "cell_type": "code",
   "execution_count": null,
   "metadata": {
    "id": "fL6b0Raor_Or"
   },
   "outputs": [],
   "source": []
  },
  {
   "cell_type": "code",
   "execution_count": null,
   "metadata": {
    "id": "ptVvOF82gXyx"
   },
   "outputs": [],
   "source": []
  },
  {
   "cell_type": "code",
   "execution_count": null,
   "metadata": {
    "id": "J02OrK5CJ8K-"
   },
   "outputs": [],
   "source": []
  }
 ],
 "metadata": {
  "colab": {
   "name": "ChatBot.ipynb",
   "provenance": []
  },
  "kernelspec": {
   "display_name": "Python 3",
   "language": "python",
   "name": "python3"
  },
  "language_info": {
   "codemirror_mode": {
    "name": "ipython",
    "version": 3
   },
   "file_extension": ".py",
   "mimetype": "text/x-python",
   "name": "python",
   "nbconvert_exporter": "python",
   "pygments_lexer": "ipython3",
   "version": "3.8.5"
  }
 },
 "nbformat": 4,
 "nbformat_minor": 1
}
